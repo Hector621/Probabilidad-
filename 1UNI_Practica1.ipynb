{
  "nbformat": 4,
  "nbformat_minor": 0,
  "metadata": {
    "colab": {
      "provenance": [],
      "authorship_tag": "ABX9TyNBAcSvuD7apEm+wnv2ksAz",
      "include_colab_link": true
    },
    "kernelspec": {
      "name": "python3",
      "display_name": "Python 3"
    },
    "language_info": {
      "name": "python"
    }
  },
  "cells": [
    {
      "cell_type": "markdown",
      "metadata": {
        "id": "view-in-github",
        "colab_type": "text"
      },
      "source": [
        "<a href=\"https://colab.research.google.com/github/Hector621/Probabilidad-/blob/main/UNI_1_PRACTICA_1.ipynb\" target=\"_parent\"><img src=\"https://colab.research.google.com/assets/colab-badge.svg\" alt=\"Open In Colab\"/></a>"
      ]
    },
    {
      "cell_type": "code",
      "execution_count": 1,
      "metadata": {
        "colab": {
          "base_uri": "https://localhost:8080/"
        },
        "id": "aZzroLNI8C21",
        "outputId": "aac8da84-df8c-4cea-8f94-dd2ab551da55"
      },
      "outputs": [
        {
          "output_type": "stream",
          "name": "stdout",
          "text": [
            "Calificaciones del grupo A: [70, 65, 70, 80, 80, 90, 100, 85, 65, 90, 85]\n",
            "Tipo de dato de grupoa: <class 'list'>\n",
            "La media calculada manualmente es: 80.0\n",
            "La mediana es: 80\n",
            "La media usando el módulo de estadísticas es: 80\n",
            "Tiempos en 100 metros: [15.1, 17.2, 14.69, 13.27, 22.15, 18.71, 19.15, 20.65, 15.1, 17.2]\n",
            "El tiempo promedio de los corredores es: 17.322\n",
            "La mediana de los tiempos de los corredores es: 17.2\n",
            "La moda de los tiempos es: 15.1\n",
            "Las modas de los tiempos son: [15.1, 17.2]\n"
          ]
        }
      ],
      "source": [
        "\n",
        "from statistics import *\n",
        "\n",
        "# Lista de calificaciones del grupo A de probabilidad y estadística\n",
        "grupoa = [70, 65, 70, 80, 80, 90, 100, 85, 65, 90, 85]\n",
        "print(\"Calificaciones del grupo A:\", grupoa)\n",
        "\n",
        "# La función type nos devuelve el tipo de dato de la variable\n",
        "print(\"Tipo de dato de grupoa:\", type(grupoa))\n",
        "\n",
        "# Sacar la media con una fórmula\n",
        "prom = sum(grupoa) / len(grupoa)\n",
        "print(\"La media calculada manualmente es:\", prom)\n",
        "\n",
        "# Determinar el valor de la mediana\n",
        "mediana = median(grupoa)\n",
        "print(\"La mediana es:\", mediana)\n",
        "\n",
        "# Calcular la media usando la función mean del módulo statistics\n",
        "prom2 = mean(grupoa)\n",
        "print(\"La media usando el módulo de estadísticas es:\", prom2)\n",
        "\n",
        "# Lista de tiempos en los 100 metros\n",
        "tiempos100mts = [15.10, 17.20, 14.69, 13.27, 22.15, 18.71, 19.15, 20.65, 15.10, 17.20]\n",
        "print(\"Tiempos en 100 metros:\", tiempos100mts)\n",
        "\n",
        "# Calcular la media de los tiempos\n",
        "print(\"El tiempo promedio de los corredores es:\", mean(tiempos100mts))\n",
        "\n",
        "# Calcular la mediana de los tiempos\n",
        "mediana_tiempos = median(tiempos100mts)\n",
        "print(\"La mediana de los tiempos de los corredores es:\", mediana_tiempos)\n",
        "\n",
        "# Calcular la moda de los tiempos\n",
        "moda = mode(tiempos100mts)\n",
        "print(\"La moda de los tiempos es:\", moda)\n",
        "\n",
        "# Encontrar todas las modas (moda múltiple) de los tiempos\n",
        "multimodas = multimode(tiempos100mts)\n",
        "print(\"Las modas de los tiempos son:\", multimodas)\n"
      ]
    },
    {
      "cell_type": "code",
      "source": [],
      "metadata": {
        "id": "v7kabiQW8D7n"
      },
      "execution_count": null,
      "outputs": []
    }
  ]
}
