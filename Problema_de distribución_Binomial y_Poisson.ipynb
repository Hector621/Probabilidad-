{
  "nbformat": 4,
  "nbformat_minor": 0,
  "metadata": {
    "colab": {
      "provenance": [],
      "authorship_tag": "ABX9TyOZ7fZWAWUVsuhqRj9uKD5x",
      "include_colab_link": true
    },
    "kernelspec": {
      "name": "python3",
      "display_name": "Python 3"
    },
    "language_info": {
      "name": "python"
    }
  },
  "cells": [
    {
      "cell_type": "markdown",
      "metadata": {
        "id": "view-in-github",
        "colab_type": "text"
      },
      "source": [
        "<a href=\"https://colab.research.google.com/github/Hector621/Probabilidad-/blob/main/Problema_de%C2%A0distribuci%C3%B3n_Binomial%C2%A0y_Poisson.ipynb\" target=\"_parent\"><img src=\"https://colab.research.google.com/assets/colab-badge.svg\" alt=\"Open In Colab\"/></a>"
      ]
    },
    {
      "cell_type": "markdown",
      "source": [
        "##PROBLEMA 1"
      ],
      "metadata": {
        "id": "6Re-yQA4Ak0T"
      }
    },
    {
      "cell_type": "code",
      "source": [
        "from scipy.stats import poisson\n",
        "\n",
        "# Media de la distribución Poisson\n",
        "lmbda = 5\n",
        "\n",
        "# a) Probabilidad de que el número de personas ingresadas sea dos\n",
        "k_a = 2\n",
        "prob_a = poisson.pmf(k_a, lmbda)\n",
        "print(f\"La probabilidad de que el número de personas ingresadas sea {k_a} es: {prob_a:.4f}\")\n",
        "\n",
        "# b) Probabilidad de que el número de personas ingresadas exceda de 10\n",
        "prob_b = 1 - poisson.cdf(10, lmbda)\n",
        "print(f\"La probabilidad de que el número de personas ingresadas exceda de 10 es: {prob_b:.4f}\")"
      ],
      "metadata": {
        "colab": {
          "base_uri": "https://localhost:8080/"
        },
        "id": "Odt9gbSJcrjy",
        "outputId": "43dcb3c1-6366-438e-9e37-f5f188a504e3"
      },
      "execution_count": 13,
      "outputs": [
        {
          "output_type": "stream",
          "name": "stdout",
          "text": [
            "La probabilidad de que el número de personas ingresadas sea 2 es: 0.0842\n",
            "La probabilidad de que el número de personas ingresadas exceda de 10 es: 0.0137\n"
          ]
        }
      ]
    },
    {
      "cell_type": "markdown",
      "source": [
        "##PROBLEMA 2"
      ],
      "metadata": {
        "id": "l03hUuhqAwp3"
      }
    },
    {
      "cell_type": "code",
      "source": [
        "from scipy.stats import binom\n",
        "\n",
        "# Datos del problema\n",
        "n = 1000  # Número total de motores\n",
        "p = 0.999  # Probabilidad de que un motor sea satisfactorio\n",
        "\n",
        "# a) Probabilidad de que ninguno sea defectuoso\n",
        "k_a = 0\n",
        "prob_a = binom.pmf(k_a, n, p)\n",
        "print(f\"La probabilidad de que ninguno sea defectuoso es: {prob_a:.4f}\")\n",
        "\n",
        "# b) Probabilidad de que tres sean defectuosos\n",
        "k_b = 3\n",
        "prob_b = binom.pmf(k_b, n, p)\n",
        "print(f\"La probabilidad de que tres sean defectuosos es: {prob_b:.4f}\")\n",
        "\n",
        "# c) Probabilidad de que cuatro sean defectuosos\n",
        "k_c = 4\n",
        "prob_c = binom.pmf(k_c, n, p)\n",
        "print(f\"La probabilidad de que cuatro sean defectuosos es: {prob_c:.4f}\")"
      ],
      "metadata": {
        "colab": {
          "base_uri": "https://localhost:8080/"
        },
        "id": "U7jT0Lt4b6Eo",
        "outputId": "c350d799-156d-4701-c24f-8c9a6a34ec0c"
      },
      "execution_count": 12,
      "outputs": [
        {
          "output_type": "stream",
          "name": "stdout",
          "text": [
            "La probabilidad de que ninguno sea defectuoso es: 0.0000\n",
            "La probabilidad de que tres sean defectuosos es: 0.0000\n",
            "La probabilidad de que cuatro sean defectuosos es: 0.0000\n"
          ]
        }
      ]
    },
    {
      "cell_type": "markdown",
      "source": [
        "No se por que me sale 0.0000 en todas"
      ],
      "metadata": {
        "id": "C5QbgnWPc4GJ"
      }
    }
  ]
}