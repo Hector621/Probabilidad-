{
  "nbformat": 4,
  "nbformat_minor": 0,
  "metadata": {
    "colab": {
      "provenance": [],
      "authorship_tag": "ABX9TyN6ylkl/YIIKP8v4Aae0TQ5",
      "include_colab_link": true
    },
    "kernelspec": {
      "name": "python3",
      "display_name": "Python 3"
    },
    "language_info": {
      "name": "python"
    }
  },
  "cells": [
    {
      "cell_type": "markdown",
      "metadata": {
        "id": "view-in-github",
        "colab_type": "text"
      },
      "source": [
        "<a href=\"https://colab.research.google.com/github/Hector621/Probabilidad-/blob/main/practica_3_unidad_2.ipynb\" target=\"_parent\"><img src=\"https://colab.research.google.com/assets/colab-badge.svg\" alt=\"Open In Colab\"/></a>"
      ]
    },
    {
      "cell_type": "code",
      "source": [
        "from itertools import permutations"
      ],
      "metadata": {
        "id": "uT9oBNjGL6hc"
      },
      "execution_count": 1,
      "outputs": []
    },
    {
      "cell_type": "code",
      "execution_count": 3,
      "metadata": {
        "colab": {
          "base_uri": "https://localhost:8080/"
        },
        "id": "XN19Cm6zLBVA",
        "outputId": "13c7d4fa-3b21-4612-a8b9-ca57cfb40329"
      },
      "outputs": [
        {
          "output_type": "stream",
          "name": "stdout",
          "text": [
            "numero de permutaciones: 5040\n"
          ]
        }
      ],
      "source": [
        "n = 10\n",
        "k = 4\n",
        "\n",
        "num_permutations = len(list(permutations(range(n), k)))\n",
        "print(\"numero de permutaciones:\", num_permutations)"
      ]
    }
  ]
}