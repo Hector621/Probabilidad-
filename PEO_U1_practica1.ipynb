{
  "nbformat": 4,
  "nbformat_minor": 0,
  "metadata": {
    "colab": {
      "provenance": [],
      "authorship_tag": "ABX9TyPt0uYRYoCRuu/5rQG+oNsD",
      "include_colab_link": true
    },
    "kernelspec": {
      "name": "python3",
      "display_name": "Python 3"
    },
    "language_info": {
      "name": "python"
    }
  },
  "cells": [
    {
      "cell_type": "markdown",
      "metadata": {
        "id": "view-in-github",
        "colab_type": "text"
      },
      "source": [
        "<a href=\"https://colab.research.google.com/github/Hector621/Probabilidad-/blob/main/PEO_U1_practica1.ipynb\" target=\"_parent\"><img src=\"https://colab.research.google.com/assets/colab-badge.svg\" alt=\"Open In Colab\"/></a>"
      ]
    },
    {
      "cell_type": "markdown",
      "source": [
        "#PROBABILIDAD Y ESTADÍSTICA\n",
        "##MAESTRO"
      ],
      "metadata": {
        "id": "tKUITilaC0Tx"
      }
    },
    {
      "cell_type": "code",
      "execution_count": 98,
      "metadata": {
        "id": "ug-l5weEu1kK"
      },
      "outputs": [],
      "source": [
        "from statistics import  *"
      ]
    },
    {
      "cell_type": "code",
      "source": [
        "#lista de califiicaciones del grupo de probabilidad y estadistica\n",
        "grupoa =[10, 12, 33, 15, 20]\n",
        "print(grupoa)"
      ],
      "metadata": {
        "colab": {
          "base_uri": "https://localhost:8080/"
        },
        "id": "o-m7lBxWwsQQ",
        "outputId": "0586e992-def1-4372-82b8-43394c02f428"
      },
      "execution_count": 99,
      "outputs": [
        {
          "output_type": "stream",
          "name": "stdout",
          "text": [
            "[10, 12, 33, 15, 20]\n"
          ]
        }
      ]
    },
    {
      "cell_type": "code",
      "source": [
        "# la funcion type nos devuelve el tipo de dato de la variable\n",
        "type(grupoa)"
      ],
      "metadata": {
        "id": "QqKH0Qzv2uv_",
        "colab": {
          "base_uri": "https://localhost:8080/"
        },
        "outputId": "6376dcda-7f66-4e2e-832c-4d94c36f0935"
      },
      "execution_count": 100,
      "outputs": [
        {
          "output_type": "execute_result",
          "data": {
            "text/plain": [
              "list"
            ]
          },
          "metadata": {},
          "execution_count": 100
        }
      ]
    },
    {
      "cell_type": "code",
      "source": [
        "#sacar la media con una foemula\n",
        "promedio = sum(grupoa) / len(grupoa)\n",
        "print(promedio)"
      ],
      "metadata": {
        "colab": {
          "base_uri": "https://localhost:8080/"
        },
        "id": "QnPC73R8x2N1",
        "outputId": "d5a75086-08f4-4ac3-ea9b-345e50b7d368"
      },
      "execution_count": 101,
      "outputs": [
        {
          "output_type": "stream",
          "name": "stdout",
          "text": [
            "18.0\n"
          ]
        }
      ]
    },
    {
      "cell_type": "code",
      "source": [
        "#utilisar la funcion mean que esta en la libreria stalistic para sacar el promedio\n",
        "promedio2 = mean(grupoa)\n",
        "print(promedio2)"
      ],
      "metadata": {
        "colab": {
          "base_uri": "https://localhost:8080/"
        },
        "id": "OoBS44aLyo3W",
        "outputId": "9f3a45f6-164b-45d3-e05b-be5d5e7d84c6"
      },
      "execution_count": 102,
      "outputs": [
        {
          "output_type": "stream",
          "name": "stdout",
          "text": [
            "18\n"
          ]
        }
      ]
    },
    {
      "cell_type": "markdown",
      "source": [
        "\n",
        "##SACAR LA MEDIANA"
      ],
      "metadata": {
        "id": "mk9tDkRXmdhj"
      }
    },
    {
      "cell_type": "code",
      "source": [
        "# determinar el valor de la mediana\n",
        "mediana = median(grupoa)\n",
        "print(median)"
      ],
      "metadata": {
        "id": "kgAY5UIfzgYS",
        "colab": {
          "base_uri": "https://localhost:8080/"
        },
        "outputId": "a4fec64c-1963-44ee-b6fe-ba6c3742a2ae"
      },
      "execution_count": 103,
      "outputs": [
        {
          "output_type": "stream",
          "name": "stdout",
          "text": [
            "<function median at 0x79ab2d937250>\n"
          ]
        }
      ]
    },
    {
      "cell_type": "code",
      "source": [
        "tiempos100mts = [15.10, 17.20, 14.69, 13.27, 22.15, 18.71, 19.15, 20.65, 15.10, 17.20]\n",
        "print(tiempos100mts)"
      ],
      "metadata": {
        "id": "qU4rRVA45_gz",
        "colab": {
          "base_uri": "https://localhost:8080/"
        },
        "outputId": "f707bccf-9fd6-4056-e4e8-acd3e57b43f3"
      },
      "execution_count": 104,
      "outputs": [
        {
          "output_type": "stream",
          "name": "stdout",
          "text": [
            "[15.1, 17.2, 14.69, 13.27, 22.15, 18.71, 19.15, 20.65, 15.1, 17.2]\n"
          ]
        }
      ]
    },
    {
      "cell_type": "code",
      "source": [
        "print(\"El tiempo promedio de los correadores es=>\", mean(tiempos100mts))"
      ],
      "metadata": {
        "id": "LTUx-TyQ6nEI",
        "colab": {
          "base_uri": "https://localhost:8080/"
        },
        "outputId": "583164bf-7737-4244-e1eb-cac9c9898148"
      },
      "execution_count": 105,
      "outputs": [
        {
          "output_type": "stream",
          "name": "stdout",
          "text": [
            "El tiempo promedio de los correadores es=> 17.322\n"
          ]
        }
      ]
    },
    {
      "cell_type": "code",
      "source": [
        "mediana = median(tiempos100mts)\n",
        "print(\"la madia de los tiempos de los corredores es=>\", mediana )"
      ],
      "metadata": {
        "id": "ErxSdoMH8MwH",
        "colab": {
          "base_uri": "https://localhost:8080/"
        },
        "outputId": "59048e8e-fbfd-45e1-f979-85cacf496c16"
      },
      "execution_count": 106,
      "outputs": [
        {
          "output_type": "stream",
          "name": "stdout",
          "text": [
            "la madia de los tiempos de los corredores es=> 17.2\n"
          ]
        }
      ]
    },
    {
      "cell_type": "markdown",
      "source": [
        "##SACAR LA MODA"
      ],
      "metadata": {
        "id": "lHQu1BpSmnCB"
      }
    },
    {
      "cell_type": "code",
      "source": [
        "# Para ssacar la moda code(mode)\n",
        "moda = mode(tiempos100mts)\n",
        "print(\"la moda de los tiempos de los corredores es\", moda )"
      ],
      "metadata": {
        "id": "h2oU-mEo9VW5",
        "colab": {
          "base_uri": "https://localhost:8080/"
        },
        "outputId": "4f34c00f-e583-47df-cb60-35bce157369d"
      },
      "execution_count": 107,
      "outputs": [
        {
          "output_type": "stream",
          "name": "stdout",
          "text": [
            "la moda de los tiempos de los corredores es 15.1\n"
          ]
        }
      ]
    },
    {
      "cell_type": "markdown",
      "source": [
        "##SACAR LA MULTIMODA"
      ],
      "metadata": {
        "id": "irrn-qTwmr3L"
      }
    },
    {
      "cell_type": "code",
      "source": [
        "# para sacar la multimoda\n",
        "multimoda = multimode(tiempos100mts)\n",
        "print(\"la multimoda de los corredores es \", multimoda)"
      ],
      "metadata": {
        "id": "VwPJ5AmK-Kh6",
        "colab": {
          "base_uri": "https://localhost:8080/"
        },
        "outputId": "40e0fba4-6d64-4ae0-9549-a075da456848"
      },
      "execution_count": 108,
      "outputs": [
        {
          "output_type": "stream",
          "name": "stdout",
          "text": [
            "la multimoda de los corredores es  [15.1, 17.2]\n"
          ]
        }
      ]
    },
    {
      "cell_type": "markdown",
      "source": [
        "**##EJEMPLO 3:HISTOGRAMA DE 2 GRUPOS:**\n"
      ],
      "metadata": {
        "id": "-Xcno1UcnSxE"
      }
    },
    {
      "cell_type": "code",
      "source": [
        "#libreria para generar numeros aleatorios\n",
        "import random"
      ],
      "metadata": {
        "id": "CHj8M5rHnSCd"
      },
      "execution_count": 109,
      "outputs": []
    },
    {
      "cell_type": "code",
      "source": [
        "fabrica1=[]\n",
        "for i in range(100):\n",
        "  numero_aleatorio = round( random.uniform(50, 100), 2)\n",
        "  fabrica1.append(numero_aleatorio)\n",
        "print(fabrica1)"
      ],
      "metadata": {
        "colab": {
          "base_uri": "https://localhost:8080/"
        },
        "id": "DVgIMgBjpAbW",
        "outputId": "ff7df50d-f4e5-4fe0-80c1-7bd181a828f4"
      },
      "execution_count": 110,
      "outputs": [
        {
          "output_type": "stream",
          "name": "stdout",
          "text": [
            "[82.23, 82.61, 94.01, 51.94, 53.0, 83.8, 93.4, 63.89, 79.12, 78.37, 78.22, 53.47, 89.14, 85.69, 53.69, 90.31, 98.52, 50.78, 83.42, 56.46, 80.96, 99.74, 61.0, 94.68, 99.23, 89.18, 92.72, 89.26, 85.54, 72.1, 94.94, 59.66, 62.14, 55.15, 74.25, 51.63, 93.04, 93.9, 59.58, 71.55, 98.76, 95.43, 60.82, 88.85, 87.11, 79.87, 52.34, 72.43, 85.67, 87.66, 70.35, 63.7, 89.31, 52.51, 80.4, 71.7, 64.42, 85.08, 77.85, 64.3, 61.66, 56.39, 51.82, 55.24, 65.92, 50.72, 78.54, 71.86, 74.84, 96.86, 78.35, 96.08, 98.09, 77.49, 91.89, 76.36, 76.47, 82.64, 77.88, 64.69, 80.97, 53.69, 77.84, 88.83, 92.8, 82.21, 97.13, 59.87, 83.22, 50.23, 54.34, 98.72, 55.17, 64.38, 68.92, 62.57, 87.33, 72.35, 90.1, 59.35]\n"
          ]
        }
      ]
    },
    {
      "cell_type": "markdown",
      "source": [],
      "metadata": {
        "id": "eWpUQskGwP5g"
      }
    },
    {
      "cell_type": "code",
      "source": [
        "fabrica2=[]\n",
        "for i in range(100):\n",
        "  numero_aleatorio2 = round( random.uniform(50, 100), 2)\n",
        "  fabrica2.append(numero_aleatorio2)\n",
        "print(fabrica2)"
      ],
      "metadata": {
        "colab": {
          "base_uri": "https://localhost:8080/"
        },
        "id": "Hww6ykIlrag_",
        "outputId": "fa2cd965-d269-416c-d3ae-47fe4f82af9d"
      },
      "execution_count": 111,
      "outputs": [
        {
          "output_type": "stream",
          "name": "stdout",
          "text": [
            "[70.1, 55.5, 93.15, 75.76, 86.32, 85.82, 56.56, 52.53, 52.01, 96.54, 95.16, 93.79, 69.07, 74.57, 66.25, 65.39, 77.91, 92.38, 89.9, 90.92, 83.59, 67.71, 80.03, 90.48, 51.46, 75.66, 96.82, 98.72, 79.4, 76.72, 50.76, 50.08, 97.18, 63.79, 69.86, 78.81, 90.98, 63.17, 67.03, 97.05, 82.36, 62.9, 60.57, 77.56, 90.16, 73.32, 86.46, 51.27, 71.65, 63.23, 51.79, 92.11, 51.13, 87.97, 86.99, 62.14, 89.31, 55.39, 73.75, 77.06, 67.91, 70.69, 71.43, 68.69, 96.7, 85.96, 83.52, 89.44, 66.3, 83.28, 64.2, 77.94, 71.59, 87.42, 66.37, 83.78, 80.81, 66.43, 61.21, 75.18, 90.87, 72.91, 73.03, 74.91, 66.96, 73.88, 95.73, 66.27, 62.73, 90.23, 93.95, 52.99, 53.09, 58.42, 91.17, 61.45, 97.31, 66.82, 80.75, 64.66]\n"
          ]
        }
      ]
    },
    {
      "cell_type": "code",
      "source": [
        "# Libreia de python para graficar valores\n",
        "import matplotlib.pyplot as plt\n"
      ],
      "metadata": {
        "id": "WS3oHsYssHuz"
      },
      "execution_count": 112,
      "outputs": []
    },
    {
      "cell_type": "code",
      "source": [
        "plt.hist(fabrica1)\n",
        "plt.title(\"produccion diaria de la fabrica 1\")"
      ],
      "metadata": {
        "colab": {
          "base_uri": "https://localhost:8080/",
          "height": 469
        },
        "id": "zSGeJ9koskpJ",
        "outputId": "752afc83-ad58-478d-9386-c3ff801ed404"
      },
      "execution_count": 113,
      "outputs": [
        {
          "output_type": "execute_result",
          "data": {
            "text/plain": [
              "Text(0.5, 1.0, 'produccion diaria de la fabrica 1')"
            ]
          },
          "metadata": {},
          "execution_count": 113
        },
        {
          "output_type": "display_data",
          "data": {
            "text/plain": [
              "<Figure size 640x480 with 1 Axes>"
            ],
            "image/png": "[encoded data removed]"
          },
          "metadata": {}
        }
      ]
    },
    {
      "cell_type": "code",
      "source": [
        "plt.hist(fabrica2)\n",
        "plt.title(\"produccion diaria de la fabrica 2\")"
      ],
      "metadata": {
        "colab": {
          "base_uri": "https://localhost:8080/",
          "height": 469
        },
        "id": "F4eTrOXRttgn",
        "outputId": "fd2585f0-51bb-4eb1-fcd5-40a7724f3995"
      },
      "execution_count": 114,
      "outputs": [
        {
          "output_type": "execute_result",
          "data": {
            "text/plain": [
              "Text(0.5, 1.0, 'produccion diaria de la fabrica 2')"
            ]
          },
          "metadata": {},
          "execution_count": 114
        },
        {
          "output_type": "display_data",
          "data": {
            "text/plain": [
              "<Figure size 640x480 with 1 Axes>"
            ],
            "image/png": "[encoded data removed]"
          },
          "metadata": {}
        }
      ]
    },
    {
      "cell_type": "code",
      "source": [
        "media = mean(fabrica1)\n",
        "mediana =median(fabrica1)\n",
        "meda=mode(fabrica1)\n",
        "\n",
        "print(\"valores de la fabrica 1\")\n",
        "print(\"la media es =\", media)\n",
        "print(\"la mediana es=\", mediana)\n",
        "print(\"la moda es =\", moda)"
      ],
      "metadata": {
        "colab": {
          "base_uri": "https://localhost:8080/"
        },
        "id": "3tz26WjYuAVC",
        "outputId": "577626ea-f153-4530-9591-8d28e4326464"
      },
      "execution_count": 115,
      "outputs": [
        {
          "output_type": "stream",
          "name": "stdout",
          "text": [
            "valores de la fabrica 1\n",
            "la media es = 75.7469\n",
            "la mediana es= 78.05\n",
            "la moda es = 15.1\n"
          ]
        }
      ]
    },
    {
      "cell_type": "code",
      "source": [
        "media = mean(fabrica2)\n",
        "mediana =median(fabrica2)\n",
        "meda=mode(fabrica2)\n",
        "\n",
        "print(\"valores de la fabrica 2\")\n",
        "print(\"la media es =\", media)\n",
        "print(\"la mediana es=\", mediana)\n",
        "print(\"la moda es =\", moda)"
      ],
      "metadata": {
        "colab": {
          "base_uri": "https://localhost:8080/"
        },
        "id": "uRD8lAuyvZSS",
        "outputId": "ead58642-7192-4fb3-9afc-57d7743c2fd2"
      },
      "execution_count": 116,
      "outputs": [
        {
          "output_type": "stream",
          "name": "stdout",
          "text": [
            "valores de la fabrica 2\n",
            "la media es = 75.2303\n",
            "la mediana es= 74.74\n",
            "la moda es = 15.1\n"
          ]
        }
      ]
    },
    {
      "cell_type": "code",
      "source": [
        "# gnerar 2 subplt de 1 renglon para 2 columnas para desplegar los 2 histogramas,\n",
        "#una al lado de la otra\n",
        "fig, (ax1, ax2)=plt.subplots(nrows=1, ncols=2)"
      ],
      "metadata": {
        "colab": {
          "base_uri": "https://localhost:8080/",
          "height": 435
        },
        "id": "2l9lNClcwBy6",
        "outputId": "9ab97225-31b6-4bf5-e0bd-e55dec89a7b3"
      },
      "execution_count": 117,
      "outputs": [
        {
          "output_type": "display_data",
          "data": {
            "text/plain": [
              "<Figure size 640x480 with 2 Axes>"
            ],
            "image/png": "[encoded data removed]"
          },
          "metadata": {}
        }
      ]
    },
    {
      "cell_type": "code",
      "source": [
        "# gnerar 2 subplt de 1 renglon para 2 columnas para desplegar los 2 histogramas,\n",
        "#una al lado de la otra\n",
        "fig, (ax1, ax2)=plt.subplots(nrows=1, ncols=2)\n",
        "ax1.hist(fabrica1)\n",
        "ax2.hist(fabrica2)\n",
        "plt.show()"
      ],
      "metadata": {
        "colab": {
          "base_uri": "https://localhost:8080/",
          "height": 430
        },
        "id": "nxlIzV87w98d",
        "outputId": "a04f8558-7ea2-4d5c-817d-274c55f3d46a"
      },
      "execution_count": 118,
      "outputs": [
        {
          "output_type": "display_data",
          "data": {
            "text/plain": [
              "<Figure size 640x480 with 2 Axes>"
            ],
            "image/png": "[encoded data removed]"
          },
          "metadata": {}
        }
      ]
    },
    {
      "cell_type": "code",
      "source": [
        "#valor minimo, maximo, rango\n",
        "media1 = mean(fabrica1)\n",
        "mediana1 =median(fabrica1)\n",
        "moda1=mode(fabrica1)\n"
      ],
      "metadata": {
        "id": "ocisdJsyw9xX"
      },
      "execution_count": 119,
      "outputs": []
    },
    {
      "cell_type": "code",
      "source": [
        "plt.hist(fabrica1, bins=11, alpha=0.5, color='b', edgecolor= \"black\")\n",
        "plt.axvline(media1, color='b', linestyle='dashed', linewidth=2, label='media')\n",
        "plt.axvline(mediana1, color='r', linestyle='dashed', linewidth=2, label='mediana')\n",
        "plt.axvline(moda1, color='y', linestyle='dashed', linewidth=2, label='moda')\n",
        "plt.xlabel=('valor')\n",
        "plt.xlabel=('frecuencia')\n",
        "plt.title(\"produccion diaria de la frabica 1\")\n",
        "plt.legend()\n",
        "plt.show()\n"
      ],
      "metadata": {
        "colab": {
          "base_uri": "https://localhost:8080/",
          "height": 452
        },
        "id": "UF1quLJaxsLv",
        "outputId": "abc6fcc8-b4f9-49e3-962e-19b7353f5e0e"
      },
      "execution_count": 133,
      "outputs": [
        {
          "output_type": "display_data",
          "data": {
            "text/plain": [
              "<Figure size 640x480 with 1 Axes>"
            ],
            "image/png": "[encoded data removed]"
          },
          "metadata": {}
        }
      ]
    },
    {
      "cell_type": "code",
      "source": [
        "#valor minimo, maximo, rango\n",
        "media2 = mean(fabrica2)\n",
        "mediana2 =median(fabrica2)\n",
        "moda2=mode(fabrica2)\n",
        "\n",
        "\n",
        "plt.hist(fabrica2, bins=11, alpha=0.5, color='b', edgecolor= \"black\")\n",
        "plt.axvline(media2, color='b', linestyle='dashed', linewidth=2, label='media')\n",
        "plt.axvline(mediana2, color='r', linestyle='dashed', linewidth=2, label='mediana')\n",
        "plt.axvline(moda2, color='y', linestyle='dashed', linewidth=2, label='moda')\n",
        "plt.xlabel=('valor')\n",
        "plt.xlabel=('frecuencia')\n",
        "plt.title(\"produccion diaria de la frabica 2\")\n",
        "plt.legend()\n",
        "plt.show()\n",
        "\n",
        "\n"
      ],
      "metadata": {
        "colab": {
          "base_uri": "https://localhost:8080/",
          "height": 452
        },
        "id": "ZCy6q6H2x5gT",
        "outputId": "8f255328-5497-4e46-b190-68107d6e1d20"
      },
      "execution_count": 139,
      "outputs": [
        {
          "output_type": "display_data",
          "data": {
            "text/plain": [
              "<Figure size 640x480 with 1 Axes>"
            ],
            "image/png": "[encoded data removed]"
          },
          "metadata": {}
        }
      ]
    },
    {
      "cell_type": "code",
      "source": [],
      "metadata": {
        "id": "2ar1gq3BxsHk"
      },
      "execution_count": null,
      "outputs": []
    },
    {
      "cell_type": "code",
      "source": [],
      "metadata": {
        "id": "qzQtH38AxsDm"
      },
      "execution_count": null,
      "outputs": []
    },
    {
      "cell_type": "code",
      "source": [],
      "metadata": {
        "id": "nw88uGj2xsAx"
      },
      "execution_count": null,
      "outputs": []
    },
    {
      "cell_type": "code",
      "source": [],
      "metadata": {
        "id": "-Dh3y9njxrhs"
      },
      "execution_count": null,
      "outputs": []
    },
    {
      "cell_type": "code",
      "source": [],
      "metadata": {
        "id": "JV4F4RFnw9p5"
      },
      "execution_count": null,
      "outputs": []
    }
  ]
}