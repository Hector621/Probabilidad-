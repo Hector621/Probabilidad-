{
  "nbformat": 4,
  "nbformat_minor": 0,
  "metadata": {
    "colab": {
      "provenance": [],
      "authorship_tag": "ABX9TyO48T+mpj34CdNmhEBMiN4+",
      "include_colab_link": true
    },
    "kernelspec": {
      "name": "python3",
      "display_name": "Python 3"
    },
    "language_info": {
      "name": "python"
    }
  },
  "cells": [
    {
      "cell_type": "markdown",
      "metadata": {
        "id": "view-in-github",
        "colab_type": "text"
      },
      "source": [
        "<a href=\"https://colab.research.google.com/github/Hector621/Probabilidad-/blob/main/U4_problema_1_Gonzalez_humberto.ipynb\" target=\"_parent\"><img src=\"https://colab.research.google.com/assets/colab-badge.svg\" alt=\"Open In Colab\"/></a>"
      ]
    },
    {
      "cell_type": "code",
      "source": [
        "# Tabla de distribución normal estándar (z, P(Z < z))\n",
        "tabla_z = {\n",
        "    -3.5: 0.0002, -3.0: 0.0013, -2.5: 0.0062, -2.0: 0.0228,\n",
        "    -1.5: 0.0668, -1.0: 0.1587, -0.5: 0.3085, 0.0: 0.5000,\n",
        "    0.5: 0.6915, 1.0: 0.8413, 1.5: 0.9332, 2.0: 0.9772,\n",
        "    2.5: 0.9938, 3.0: 0.9987, 3.5: 0.9998\n",
        "}\n",
        "\n",
        "# Datos\n",
        "limite_inferior = 68\n",
        "limite_superior = 72\n",
        "total_estudiantes = 500\n",
        "\n",
        "# Encontrando la probabilidad acumulativa para los límites\n",
        "probabilidad_inferior = tabla_z.get((limite_inferior - media) / desviacion_estandar)\n",
        "probabilidad_superior = tabla_z.get((limite_superior - media) / desviacion_estandar)\n",
        "\n",
        "# Calculando la probabilidad entre los límites\n",
        "probabilidad = probabilidad_superior - probabilidad_inferior\n",
        "\n",
        "# Calculando el número de estudiantes en el rango\n",
        "numero_estudiantes_en_rango = probabilidad * total_estudiantes\n",
        "\n",
        "# Imprimiendo resultados\n",
        "print(\"La probabilidad de estudiantes que pesan entre\", limite_inferior, \"y\", limite_superior, \"kg es:\", probabilidad)\n",
        "print(\"El número de estudiantes en ese rango es aproximadamente:\", round(numero_estudiantes_en_rango))\n",
        "\n",
        "# Tabla de distribución normal estándar (z, P(Z < z))\n",
        "tabla_z = {\n",
        "    -3.5: 0.0002, -3.0: 0.0013, -2.5: 0.0062, -2.0: 0.0228,\n",
        "    -1.5: 0.0668, -1.0: 0.1587, -0.5: 0.3085, 0.0: 0.5000,\n",
        "    0.5: 0.6915, 1.0: 0.8413, 1.5: 0.9332, 2.0: 0.9772,\n",
        "    2.5: 0.9938, 3.0: 0.9987, 3.5: 0.9998\n",
        "}\n",
        "\n",
        "# Imprimir la tabla\n",
        "print(\"Tabla de Distribución Normal Estándar (z, P(Z < z))\")\n",
        "print(\"-------------------------------------------------\")\n",
        "print(\"|    z    |  P(Z < z)  |\")\n",
        "print(\"-------------------------------------------------\")\n",
        "for z, probabilidad in tabla_z.items():\n",
        "    print(f\"|  {z:+.1f}   |   {probabilidad:.4f}   |\")\n",
        "print(\"-------------------------------------------------\")\n"
      ],
      "metadata": {
        "colab": {
          "base_uri": "https://localhost:8080/"
        },
        "id": "QYMgtjaHIw_F",
        "outputId": "52caa5f5-8db7-4760-d12f-fb799c202f99"
      },
      "execution_count": 5,
      "outputs": [
        {
          "output_type": "stream",
          "name": "stdout",
          "text": [
            "La probabilidad de estudiantes que pesan entre 68 y 72 kg es: 0.383\n",
            "El número de estudiantes en ese rango es aproximadamente: 192\n",
            "Tabla de Distribución Normal Estándar (z, P(Z < z))\n",
            "-------------------------------------------------\n",
            "|    z    |  P(Z < z)  |\n",
            "-------------------------------------------------\n",
            "|  -3.5   |   0.0002   |\n",
            "|  -3.0   |   0.0013   |\n",
            "|  -2.5   |   0.0062   |\n",
            "|  -2.0   |   0.0228   |\n",
            "|  -1.5   |   0.0668   |\n",
            "|  -1.0   |   0.1587   |\n",
            "|  -0.5   |   0.3085   |\n",
            "|  +0.0   |   0.5000   |\n",
            "|  +0.5   |   0.6915   |\n",
            "|  +1.0   |   0.8413   |\n",
            "|  +1.5   |   0.9332   |\n",
            "|  +2.0   |   0.9772   |\n",
            "|  +2.5   |   0.9938   |\n",
            "|  +3.0   |   0.9987   |\n",
            "|  +3.5   |   0.9998   |\n",
            "-------------------------------------------------\n"
          ]
        }
      ]
    }
  ]
}